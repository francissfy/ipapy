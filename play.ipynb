{
 "metadata": {
  "language_info": {
   "codemirror_mode": {
    "name": "ipython",
    "version": 3
   },
   "file_extension": ".py",
   "mimetype": "text/x-python",
   "name": "python",
   "nbconvert_exporter": "python",
   "pygments_lexer": "ipython3",
   "version": "3.8.2-final"
  },
  "orig_nbformat": 2,
  "kernelspec": {
   "name": "python3",
   "display_name": "Python 3.8.2 64-bit",
   "metadata": {
    "interpreter": {
     "hash": "31f2aee4e71d21fbe5cf8b01ff0e069b9275f58929596ceb00d14d90e3e16cd6"
    }
   }
  }
 },
 "nbformat": 4,
 "nbformat_minor": 2,
 "cells": [
  {
   "cell_type": "code",
   "execution_count": 1,
   "metadata": {},
   "outputs": [],
   "source": [
    "from ipapy import UNICODE_TO_IPA\n",
    "from ipapy import is_valid_ipa\n",
    "from ipapy.ipachar import IPAConsonant\n",
    "from ipapy.ipachar import IPAVowel\n",
    "from ipapy.ipastring import IPAString\n"
   ]
  },
  {
   "cell_type": "code",
   "execution_count": 4,
   "metadata": {},
   "outputs": [
    {
     "output_type": "stream",
     "name": "stdout",
     "text": [
      "t\naŋ\ntaŋ\n"
     ]
    }
   ],
   "source": [
    "str = u\"taŋ\"\n",
    "assert is_valid_ipa(str), \"ERROR\"\n",
    "s = IPAString(unicode_string=str)\n",
    "print(s.consonants_n)\n",
    "print(s.vowels_n)\n",
    "print(s.letters)"
   ]
  },
  {
   "cell_type": "code",
   "execution_count": null,
   "metadata": {},
   "outputs": [],
   "source": []
  }
 ]
}